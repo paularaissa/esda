{
  "nbformat": 4,
  "nbformat_minor": 0,
  "metadata": {
    "colab": {
      "name": "revisao_apontadores.ipynb",
      "provenance": [],
      "collapsed_sections": [],
      "mount_file_id": "1aFNULenLvpC02bQeV4gYqcd2BV78R_HT",
      "authorship_tag": "ABX9TyMT5j+GkuhwGDjUCOEjYLaG",
      "include_colab_link": true
    },
    "kernelspec": {
      "name": "python3",
      "display_name": "Python 3"
    },
    "language_info": {
      "name": "python"
    }
  },
  "cells": [
    {
      "cell_type": "markdown",
      "metadata": {
        "id": "view-in-github",
        "colab_type": "text"
      },
      "source": [
        "<a href=\"https://colab.research.google.com/github/paularaissa/esda/blob/main/revisao_apontadores.ipynb\" target=\"_parent\"><img src=\"https://colab.research.google.com/assets/colab-badge.svg\" alt=\"Open In Colab\"/></a>"
      ]
    },
    {
      "cell_type": "markdown",
      "source": [
        "# **APONTADORES**\n",
        " \n",
        " O Ministério da Saúde adverte: o uso descuidado de apontadores pode levar a sérios bugs e a dores de cabeça terríveis :-)\n",
        "\n",
        "Os **ints** guardam inteiros. Os **floats** guardam números de ponto flutuante. Os **chars** guardam caracteres. **Apontadores** guardam endereços de memória."
      ],
      "metadata": {
        "id": "q9T636Fuddfn"
      }
    },
    {
      "cell_type": "markdown",
      "source": [
        "Para declarar um apontador temos a seguinte forma geral:\n",
        "\n",
        "*tipo_do_apontador *nome_da_variável;*"
      ],
      "metadata": {
        "id": "rJZD296Xe4EZ"
      }
    },
    {
      "cell_type": "markdown",
      "source": [
        "É o asterisco (*) que faz o compilador saber que aquela variável não vai guardar um valor mas sim um endereço para aquele tipo especificado. Vamos ver exemplos de declarações: "
      ],
      "metadata": {
        "id": "RTRNmyq9fK3T"
      }
    },
    {
      "cell_type": "code",
      "source": [
        "%%file apontadores1.c\n",
        "\n",
        "#include <stdio.h>\n",
        "\n",
        "int main() {\n",
        "    int *pt;\n",
        "    char *temp, *pt2;\n",
        "}"
      ],
      "metadata": {
        "colab": {
          "base_uri": "https://localhost:8080/"
        },
        "id": "QFGYtAc_fRx3",
        "outputId": "45f06a91-8b29-4f45-88f0-0480aa4dc513"
      },
      "execution_count": 19,
      "outputs": [
        {
          "output_type": "stream",
          "name": "stdout",
          "text": [
            "Writing apontadores1.c\n"
          ]
        }
      ]
    },
    {
      "cell_type": "code",
      "source": [
        "! gcc apontadores1.c -o apontadores1"
      ],
      "metadata": {
        "id": "t7nvw03nflvN"
      },
      "execution_count": 20,
      "outputs": []
    },
    {
      "cell_type": "code",
      "source": [
        "%%shell \n",
        "\n",
        "./apontadores1"
      ],
      "metadata": {
        "id": "hmsGau_5f05e"
      },
      "execution_count": null,
      "outputs": []
    },
    {
      "cell_type": "markdown",
      "source": [
        "Os apontadores ainda não foram inicializados (como toda variável do C que é apenas declarada). Isto significa que eles apontam para um lugar indefinido. Este lugar pode estar, por exemplo, na porção da memória reservada ao sistema operacional do computador. Usar o apontador nestas circunstânicias pode levar a um travamento do pc. O apontador deve ser inicializado (apontado para algum lugar conhecido) antes de ser usado! Isto é de suma importância! "
      ],
      "metadata": {
        "id": "ei0DdccrgKtC"
      }
    },
    {
      "cell_type": "code",
      "source": [
        "%%file apontadores2.c\n",
        "\n",
        "#include <stdio.h>\n",
        "int main() {\n",
        "    float f;\n",
        "    float *pf;\n",
        "    pf = &f;\n",
        "\n",
        "    scanf(\"%f\", pf);\n",
        "    printf(\"Valor de *pf %f\\n\", *pf);\n",
        "    printf(\"Valor de f: %f\\n\", f);\n",
        "}"
      ],
      "metadata": {
        "colab": {
          "base_uri": "https://localhost:8080/"
        },
        "id": "vO03vnPoc7My",
        "outputId": "899e68e5-8c8e-41f5-b811-fed8c5887f09"
      },
      "execution_count": 52,
      "outputs": [
        {
          "output_type": "stream",
          "name": "stdout",
          "text": [
            "Overwriting apontadores2.c\n"
          ]
        }
      ]
    },
    {
      "cell_type": "code",
      "source": [
        "! gcc apontadores2.c -o apontadores2"
      ],
      "metadata": {
        "id": "SPYP_QACeR-m"
      },
      "execution_count": 53,
      "outputs": []
    },
    {
      "cell_type": "code",
      "source": [
        "%%shell \n",
        "./apontadores2"
      ],
      "metadata": {
        "colab": {
          "base_uri": "https://localhost:8080/"
        },
        "id": "vsa0jrQ8emmt",
        "outputId": "d89141bb-de43-4ddb-acba-1a28cc1e964b"
      },
      "execution_count": 54,
      "outputs": [
        {
          "output_type": "stream",
          "name": "stdout",
          "text": [
            "5\n",
            "Valor de *pf 5.000000\n",
            "Valor de f: 5.000000\n"
          ]
        },
        {
          "output_type": "execute_result",
          "data": {
            "text/plain": [
              ""
            ]
          },
          "metadata": {},
          "execution_count": 54
        }
      ]
    },
    {
      "cell_type": "code",
      "source": [
        "%%file apontadores3.c\n",
        "\n",
        "#include <stdio.h>\n",
        "\n",
        "int main() {\n",
        "    int num, valor;\n",
        "    int *p;\n",
        "    num = 55;\n",
        "\n",
        "    // Pega o endereco de num\n",
        "    p = &num;\n",
        "\n",
        "    // Valor e igualado a num de uma maneira indireta\n",
        "    valor = *p;\n",
        "\n",
        "    printf (\"Valor : %d\\n\", valor);\n",
        "\n",
        "    //O código %p usado na função printf() indica que deve imprimir um endereço. \n",
        "    printf (\"Endereco para onde o ponteiro aponta: %p\\n\", p);\n",
        "\n",
        "    printf (\"Valor da variavel apontada: %d\\n\", *p);\n",
        "\n",
        "    return(0);\n",
        "}"
      ],
      "metadata": {
        "colab": {
          "base_uri": "https://localhost:8080/"
        },
        "id": "hodlQgGgXiFq",
        "outputId": "f9de3063-6f26-4344-dacd-36977c986fbc"
      },
      "execution_count": 73,
      "outputs": [
        {
          "output_type": "stream",
          "name": "stdout",
          "text": [
            "Overwriting apontadores3.c\n"
          ]
        }
      ]
    },
    {
      "cell_type": "code",
      "source": [
        "! gcc apontadores3.c -o apontadores3"
      ],
      "metadata": {
        "id": "9Wz0kA2zZrJF"
      },
      "execution_count": 74,
      "outputs": []
    },
    {
      "cell_type": "code",
      "source": [
        "%%shell \n",
        "./apontadores3"
      ],
      "metadata": {
        "colab": {
          "base_uri": "https://localhost:8080/"
        },
        "id": "NDpOfO4nfw9z",
        "outputId": "a92b3527-23e2-432c-a4cb-1329fdc454aa"
      },
      "execution_count": 75,
      "outputs": [
        {
          "output_type": "stream",
          "name": "stdout",
          "text": [
            "Valor : 55\n",
            "Endereco para onde o ponteiro aponta: 0x7ffde495fb58\n",
            "Valor da variavel apontada: 55\n"
          ]
        },
        {
          "output_type": "execute_result",
          "data": {
            "text/plain": [
              ""
            ]
          },
          "metadata": {},
          "execution_count": 75
        }
      ]
    },
    {
      "cell_type": "code",
      "source": [
        "%%file apontadores4.c\n",
        "\n",
        "#include <stdio.h>\n",
        "int main() {\n",
        "    int num, *p;\n",
        "    num = 55;\n",
        "    p = &num;     /* Pega o endereco de num */\n",
        "    printf(\"\\nValor inicial: %d\\n\",num);\n",
        "    *p = 100; /* Muda o valor de num de uma maneira indireta */\n",
        "    printf(\"\\nValor final: %d\\n\",num);\n",
        "    return(0);\n",
        "}"
      ],
      "metadata": {
        "colab": {
          "base_uri": "https://localhost:8080/"
        },
        "id": "wS55_LL9qQGv",
        "outputId": "4bf77c8d-1dcb-4ade-f445-cfb7cf868ae7"
      },
      "execution_count": 67,
      "outputs": [
        {
          "output_type": "stream",
          "name": "stdout",
          "text": [
            "Writing apontadores4.c\n"
          ]
        }
      ]
    },
    {
      "cell_type": "code",
      "source": [
        "! gcc apontadores4.c -o apontadores4"
      ],
      "metadata": {
        "id": "wn5l02i_qXuH"
      },
      "execution_count": 68,
      "outputs": []
    },
    {
      "cell_type": "code",
      "source": [
        "%%shell \n",
        "./apontadores4"
      ],
      "metadata": {
        "colab": {
          "base_uri": "https://localhost:8080/"
        },
        "id": "MTyLVP5-qbTZ",
        "outputId": "63156059-14f4-4203-9a48-7bbdb93ff2ec"
      },
      "execution_count": 69,
      "outputs": [
        {
          "output_type": "stream",
          "name": "stdout",
          "text": [
            "\n",
            "Valor inicial: 55\n",
            "\n",
            "Valor final: 100\n"
          ]
        },
        {
          "output_type": "execute_result",
          "data": {
            "text/plain": [
              ""
            ]
          },
          "metadata": {},
          "execution_count": 69
        }
      ]
    },
    {
      "cell_type": "markdown",
      "source": [
        "**Operações com Apontadores**\n",
        "\n",
        "*   Se temos dois apontadores *p1* e *p2* podemos igualá-los fazendo `p1 = p2`\n",
        "*   Se quisermos que a variável apontada por *p1* tenha o mesmo conteúdo da variável apontada por *p2* devemos fazer `p1 = *p2`\n",
        "*   Se temos um apontador para um inteiro e o incrementamos ele passa a apontar para o próximo inteiro. Se incrementarmos um apontador `char*` ele anda 1 byte na memória e se você incrementa um apontador `double*` ele anda 8 bytes na memória. O decremento funciona semelhantemente. Supondo que p é um ponteiro, as operações são escritas como: \n",
        "```\n",
        "    p++;\n",
        "    p--;\n",
        "```\n",
        "*   Para incrementar o conteúdo da variável apontada pelo apontador *p*, faz-se: \n",
        "```\n",
        "    (*p)++;\n",
        "```\n",
        "*   Atenção aos dois operadores (& e *)\n",
        "\n",
        "\n",
        "\n"
      ],
      "metadata": {
        "id": "4zqHre-1tDof"
      }
    },
    {
      "cell_type": "code",
      "source": [
        "%%file apontadores5.c\n",
        "#include <stdio.h>\n",
        "int main(){\n",
        "    int y, *p, x;\n",
        "    y = 0;\n",
        "    p = &y;\n",
        "    x = *p;\n",
        "    x = 4;\n",
        "    (*p)++;\n",
        "    x--;\n",
        "    (*p) += x;\n",
        "    printf(\"y = %d\\n\", y);\n",
        "    return(0);\n",
        "} "
      ],
      "metadata": {
        "colab": {
          "base_uri": "https://localhost:8080/"
        },
        "id": "-p81yj0DtK4j",
        "outputId": "1034dfe3-94eb-4751-cf90-1c5552359ad8"
      },
      "execution_count": 80,
      "outputs": [
        {
          "output_type": "stream",
          "name": "stdout",
          "text": [
            "Overwriting apontadores5.c\n"
          ]
        }
      ]
    },
    {
      "cell_type": "code",
      "source": [
        "! gcc apontadores5.c -o apontadores5"
      ],
      "metadata": {
        "id": "g81uwQZbwI4r"
      },
      "execution_count": 81,
      "outputs": []
    },
    {
      "cell_type": "code",
      "source": [
        "%%shell \n",
        "./apontadores5"
      ],
      "metadata": {
        "colab": {
          "base_uri": "https://localhost:8080/"
        },
        "id": "5qGpdCICwmXR",
        "outputId": "386fef21-8158-4e63-a5eb-b91ac1cd2afc"
      },
      "execution_count": 82,
      "outputs": [
        {
          "output_type": "stream",
          "name": "stdout",
          "text": [
            "y = 4\n"
          ]
        },
        {
          "output_type": "execute_result",
          "data": {
            "text/plain": [
              ""
            ]
          },
          "metadata": {},
          "execution_count": 82
        }
      ]
    },
    {
      "cell_type": "markdown",
      "source": [
        "# **ALOCAÇÃO DINÂMICA**\n",
        "\n",
        "* A alocação dinâmica permite ao programador  alocar memória para variáveis quando o programa está sendo executado. Assim, poderemos definir, por exemplo, um vetor ou uma matriz cujo tamanho descobriremos em tempo de execução.\n",
        "* O padrão C ANSI define apenas 4 funções para o sistema de alocação dinâmica, disponíveis na biblioteca stdlib.h:\n",
        "  * malloc\n",
        "  * calloc\n",
        "  * realloc\n",
        "  * free\n",
        "\n",
        "\n",
        "\n",
        "\n",
        "\n",
        "\n"
      ],
      "metadata": {
        "id": "BM4DpfBDzCCU"
      }
    },
    {
      "cell_type": "markdown",
      "source": [
        "## malloc\n",
        "\n",
        "A função `malloc()` serve para alocar memória e tem o seguinte protótipo:\n",
        "\n",
        "`void *malloc (unsigned int num);`\n",
        "\n",
        "No exemplo abaixo, é alocada memória suficiente para se armazenar a números inteiros. O operador `sizeof()` retorna o número de bytes de um inteiro. Ele é util para se saber o tamanho de tipos. O apontador `void*` que `malloc()` retorna é convertido para um `int*` pelo cast e é atribuído a `p`. A declaração seguinte testa se a operação foi bem sucedida. Se não tiver sido, `p` terá um valor nulo, o que fará com que `!p` retorne verdadeiro. Se a operação tiver sido bem sucedida, podemos usar o vetor de inteiros alocados normalmente, por exemplo, indexando-o de `p[0]` a `p[(n-1)]`."
      ],
      "metadata": {
        "id": "A8vbKIKwQb8i"
      }
    },
    {
      "cell_type": "code",
      "source": [
        "%%file apontadores6.c\n",
        "\n",
        "#include <stdio.h>\n",
        "#include <stdlib.h>\n",
        "\n",
        "void imprime_vetor(int *v, int n)\n",
        "{\n",
        "    for(int i = 0; i < n; i++)\n",
        "        printf(\"%d \", v[i]);\n",
        "}\n",
        "\n",
        "int main()\n",
        "{\n",
        "    // declara o número de elementos do vetor\n",
        "    int n = 3;\n",
        "    \n",
        "    // cria um vetor de forma dinâmica\n",
        "    int *p = malloc(n * sizeof(int));\n",
        "    \n",
        "    //int *p;\n",
        "\n",
        "    // pede ao utilizador números inteiros e preenche o vetor com os mesmos    \n",
        "    for(int i = 0; i < n; i++)\n",
        "        scanf(\"%d\", &p[i]);\n",
        " \n",
        "    if (!p){\n",
        "      printf (\"** Erro: Memoria Insuficiente **\");\n",
        "      exit;\n",
        "    }\n",
        "\n",
        "    // no final chama a função imprime_vetor\n",
        "    imprime_vetor(p, n);\n",
        "\n",
        "    return 0;\n",
        "}\n"
      ],
      "metadata": {
        "colab": {
          "base_uri": "https://localhost:8080/"
        },
        "id": "_nWJLv_1Z2fe",
        "outputId": "a57aaafb-2b54-4555-afa9-7b464972a31e"
      },
      "execution_count": 22,
      "outputs": [
        {
          "output_type": "stream",
          "name": "stdout",
          "text": [
            "Overwriting apontadores6.c\n"
          ]
        }
      ]
    },
    {
      "cell_type": "code",
      "source": [
        "! gcc apontadores6.c -o apontadores6"
      ],
      "metadata": {
        "id": "mlLSWCQZazgp"
      },
      "execution_count": 23,
      "outputs": []
    },
    {
      "cell_type": "code",
      "source": [
        "%%shell \n",
        "\n",
        "./apontadores6"
      ],
      "metadata": {
        "colab": {
          "base_uri": "https://localhost:8080/"
        },
        "id": "yOTW4vrza44o",
        "outputId": "bc3cd0df-c6f7-4d40-9bf3-563ddb9b63c2"
      },
      "execution_count": 24,
      "outputs": [
        {
          "output_type": "stream",
          "name": "stdout",
          "text": [
            "5\n",
            "9\n",
            "1\n",
            "5 9 1 "
          ]
        },
        {
          "output_type": "execute_result",
          "data": {
            "text/plain": [
              ""
            ]
          },
          "metadata": {},
          "execution_count": 24
        }
      ]
    },
    {
      "cell_type": "markdown",
      "source": [
        "## calloc\n",
        "\n",
        "A função `calloc()` também serve para alocar memória, mas possui um protótipo um pouco diferente:\n",
        "\n",
        "`void *calloc (unsigned int num, unsigned int size);`\n",
        "\n",
        "No exemplo abaixo, é alocada memória suficiente para se colocar a números inteiros. O operador `sizeof()` retorna o número de bytes de um inteiro. Ele é util para se saber o tamanho de tipos. O apontador `void *` que `calloc()` retorna é convertido para um `int *` pelo cast e é atribuído a `p`. A declaração seguinte testa se a operação foi bem sucedida. Se não tiver sido, `p` terá um valor nulo, o que fará com que `!p` retorne verdadeiro. Se a operação tiver sido bem sucedida, podemos usar o vetor de inteiros alocados normalmente, por exemplo, indexando-o de `p[0] a p[(n-1)]`. "
      ],
      "metadata": {
        "id": "7kBKDbnKbPO_"
      }
    },
    {
      "cell_type": "code",
      "source": [
        "%%file apontadores7.c\n",
        "\n",
        "#include <stdio.h>\n",
        "#include <stdlib.h>\n",
        "\n",
        "int main(void){\n",
        "\tint *p;\n",
        "\tint n;\n",
        "\tint i;\n",
        "\n",
        "  n = 3;\n",
        "\n",
        "  // Aloca n numeros inteiros, p pode ser tratado como um vetor de n posicoes\n",
        "\tp = (int *)calloc(n, sizeof(int));\n",
        "\n",
        "\tif (!p){\n",
        "      printf (\"** Erro: Memoria Insuficiente **\");\n",
        "      exit;\n",
        "  }\n",
        "\n",
        "  // *p pode ser tratado como um vetor de n posicoes\n",
        "  for(int i = 0; i < n; i++) {\n",
        "      p[i] = i*i;\n",
        "      printf(\"%d \", p[i]);\n",
        "  }\n",
        "\n",
        "\treturn 0;\n",
        "}"
      ],
      "metadata": {
        "colab": {
          "base_uri": "https://localhost:8080/"
        },
        "id": "mTy4qAFNdbgB",
        "outputId": "25a4562f-df83-40ef-a68f-b01cb299a66e"
      },
      "execution_count": 35,
      "outputs": [
        {
          "output_type": "stream",
          "name": "stdout",
          "text": [
            "Overwriting apontadores7.c\n"
          ]
        }
      ]
    },
    {
      "cell_type": "code",
      "source": [
        "! gcc apontadores7.c -o apontadores7"
      ],
      "metadata": {
        "id": "1mJmfZGhexGe"
      },
      "execution_count": 36,
      "outputs": []
    },
    {
      "cell_type": "code",
      "source": [
        "%%shell \n",
        "\n",
        "./apontadores7"
      ],
      "metadata": {
        "colab": {
          "base_uri": "https://localhost:8080/"
        },
        "id": "TghEaLkqe0yG",
        "outputId": "e296a50a-2819-45d5-c263-47a713fecc09"
      },
      "execution_count": 38,
      "outputs": [
        {
          "output_type": "stream",
          "name": "stdout",
          "text": [
            "0 1 4 Quantos elementos tem o vector?1\n"
          ]
        },
        {
          "output_type": "execute_result",
          "data": {
            "text/plain": [
              ""
            ]
          },
          "metadata": {},
          "execution_count": 38
        }
      ]
    },
    {
      "cell_type": "markdown",
      "source": [
        "## realloc\n",
        "\n",
        "A função `realloc()` serve para realocar memória e tem o seguinte protótipo:\n",
        "\n",
        "`void *realloc (void *ptr, unsigned int num);`\n",
        "\n",
        "A funçao **modifica** o tamanho da memória previamente alocada apontada por `*ptr` para aquele especificado por `num`. O valor de `num` pode ser maior ou menor que o original. Um ponteiro para o bloco é devolvido porque `realloc()` pode precisar mover o bloco para aumentar seu tamanho. Se isso ocorrer, o conteúdo do bloco antigo é copiado no novo bloco, e nenhuma informação é perdida. Se `ptr` for nulo, aloca size bytes e devolve um apontador; se `size` é zero, a memória apontada por `ptr` é liberada. Se não houver memória suficiente para a alocação, um apontador nulo é devolvido e o bloco original é deixado inalterado."
      ],
      "metadata": {
        "id": "Hc-3Z5F8gi_2"
      }
    },
    {
      "cell_type": "code",
      "source": [
        "%%file apontadores8.c\n",
        "\n",
        "#include <stdio.h>\n",
        "\n",
        "#include <stdlib.h>\t/* Para usar malloc()  e realloc*/\n",
        "\n",
        "int main(void){\n",
        "  int *p;\n",
        "\tint n;\n",
        "\tint i;\n",
        "\n",
        "  n = 3;\n",
        "\n",
        "\t//n = 30;\n",
        "\n",
        "  // Aloca n numeros inteiros\n",
        "  // p pode agora ser tratado com um vetor com n posicoes\n",
        "\tp = (int *)malloc(n * sizeof(int));\n",
        "\tif (!p) {\n",
        "      printf (\"** Erro: Memoria Insuficiente **\");\n",
        "      exit;\n",
        "  }\n",
        "\n",
        "  // p pode ser tratado como um vetor com n posicoes\n",
        "\tfor (i=0; i<n ; i++) {\n",
        "    p[i] = i*i;\n",
        "    printf(\"%d \", p[i]);\n",
        "  }\n",
        "\t\n",
        "\t/* O tamanho de p deve ser modificado, por algum motivo*/\n",
        "\tint a = 5;\n",
        "  int new_size = n + a;\n",
        "\tp = realloc(p, new_size * sizeof(int));\n",
        "\n",
        "  // p pode ser tratado como um vetor com a+n posicoes\n",
        "  printf(\"\\n\");\n",
        "\tfor (i=n; i<new_size; i++) {\n",
        "\t\tp[i] = n*i*(i-1);\n",
        "  }\n",
        "\n",
        "  // imprime novo vetor\n",
        "  for (i=0; i < new_size; i++) {\n",
        "      printf(\"%d \", p[i]);\n",
        "  }\n",
        "\n",
        "\treturn 0;\n",
        "}"
      ],
      "metadata": {
        "colab": {
          "base_uri": "https://localhost:8080/"
        },
        "id": "3n2VKpFehXdG",
        "outputId": "114e7df2-b452-4779-884c-82771d6d6651"
      },
      "execution_count": 82,
      "outputs": [
        {
          "output_type": "stream",
          "name": "stdout",
          "text": [
            "Overwriting apontadores8.c\n"
          ]
        }
      ]
    },
    {
      "cell_type": "code",
      "source": [
        "! gcc apontadores8.c -o apontadores8"
      ],
      "metadata": {
        "id": "BqxNUcq0hiwn"
      },
      "execution_count": 83,
      "outputs": []
    },
    {
      "cell_type": "code",
      "source": [
        "%%shell \n",
        "\n",
        "./apontadores8"
      ],
      "metadata": {
        "colab": {
          "base_uri": "https://localhost:8080/"
        },
        "id": "RurJe0kjhkPN",
        "outputId": "9724327a-6a8e-4625-8f25-ceee9269e18c"
      },
      "execution_count": 84,
      "outputs": [
        {
          "output_type": "stream",
          "name": "stdout",
          "text": [
            "0 1 4 \n",
            "0 1 4 18 36 60 90 126 "
          ]
        },
        {
          "output_type": "execute_result",
          "data": {
            "text/plain": [
              ""
            ]
          },
          "metadata": {},
          "execution_count": 84
        }
      ]
    },
    {
      "cell_type": "markdown",
      "source": [
        "## free\n",
        "\n",
        "Quando alocamos memória dinamicamente é necessário que nós a liberemos quando ela não for mais necessária. Para isto existe a função `free()` cujo protótipo é:\n",
        "\n",
        "`void free (void *p);`\n",
        "\n",
        "Basta então passar para `free()` o apontador que aponta para o início da memória alocada. Mas você pode se perguntar: como é que o programa vai saber quantos bytes devem ser liberados? Ele sabe pois quando você alocou a memória, ele guardou o número de bytes alocados numa \"tabela de alocação\" interna."
      ],
      "metadata": {
        "id": "jZGLv4Wwr9nA"
      }
    },
    {
      "cell_type": "code",
      "source": [
        "%%file apontadores9.c\n",
        "\n",
        "#include <stdio.h>\n",
        "#include <stdlib.h>\n",
        "\n",
        "int main(){\n",
        "    int *p;\n",
        "    int n;\n",
        "\t  int i;\n",
        "    \n",
        "    n = 15;\n",
        "    p = (int *)malloc(n * sizeof(int));\n",
        "    \n",
        "    // p pode ser tratado como um vetor com n posicoes\n",
        "\t  for (i=0; i<n ; i++) {\n",
        "      p[i] = i*i;\n",
        "      printf(\"%d \", p[i]);\n",
        "    }\n",
        "\t  printf(\"\\n\");\n",
        "\n",
        "    // liberta a memória alocada para p\n",
        "    // testar com e sem free\n",
        "\t  free(p);\n",
        "\n",
        "    //printf(\"%p\", p);\n",
        "\n",
        "\t  return 0;\n",
        "}"
      ],
      "metadata": {
        "colab": {
          "base_uri": "https://localhost:8080/"
        },
        "id": "SJqd-KHXsbpP",
        "outputId": "a5bdb456-54d6-4e47-c73e-a7c368eb3766"
      },
      "execution_count": 289,
      "outputs": [
        {
          "output_type": "stream",
          "name": "stdout",
          "text": [
            "Overwriting apontadores9.c\n"
          ]
        }
      ]
    },
    {
      "cell_type": "code",
      "source": [
        "! gcc apontadores9.c -o apontadores9"
      ],
      "metadata": {
        "id": "_MMx1yeitTVR"
      },
      "execution_count": 287,
      "outputs": []
    },
    {
      "cell_type": "code",
      "source": [
        "%%shell \n",
        "\n",
        "./apontadores9"
      ],
      "metadata": {
        "id": "-Xlob5TgtbDZ"
      },
      "execution_count": null,
      "outputs": []
    },
    {
      "cell_type": "code",
      "source": [
        "! valgrind --tool=memcheck --leak-check=yes ./apontadores9"
      ],
      "metadata": {
        "id": "xUIvn7xZ7gcs"
      },
      "execution_count": null,
      "outputs": []
    },
    {
      "cell_type": "code",
      "source": [
        "%%file apontadores10.c\n",
        "\n",
        "#include <stdio.h>\n",
        "#include <stdlib.h>\n",
        "#include <string.h>\n",
        "\n",
        "#include <stdio.h>\n",
        "#include <stdlib.h>\n",
        "#include <string.h>\n",
        "\n",
        "#define NSTRINGS 2\n",
        "\n",
        "int main()\n",
        "{\n",
        "    char **v;\n",
        "    char str[80];\n",
        "    int i, pos;\n",
        "    v = malloc(NSTRINGS * sizeof(char*));\n",
        "\n",
        "    // initialize all positions in v with NULL\n",
        "    for(i = 0; i < NSTRINGS; i++) v[i] = NULL;\n",
        "\n",
        "    while(1)\n",
        "    {\n",
        "        for(i = 0; i < NSTRINGS; i++)\n",
        "        {\n",
        "            printf(\"[%d] \", i+1);\n",
        "            if(v[i] == NULL)\n",
        "                printf(\"(vazio)\\n\");\n",
        "            else\n",
        "                printf(\"%s\\n\", v[i]);\n",
        "        }\n",
        "\n",
        "        do\n",
        "        {\n",
        "            printf(\"Posicao para nova string (1 a %d): \", NSTRINGS);\n",
        "            scanf(\"%d\", &pos);\n",
        "            getchar(); /* elimina \\n */\n",
        "        }\n",
        "        while(pos < 0 || pos > NSTRINGS);\n",
        "\n",
        "        if (pos == 0)\n",
        "            break;\n",
        "\n",
        "        printf(\"Nova String: \");\n",
        "        fgets(str, 80, stdin);\n",
        "        str[strlen(str) - 1] = '\\0';\n",
        "\n",
        "        // allocate strlen(str)+1 bytes\n",
        "        v[pos - 1] = realloc(v[pos - 1], strlen(str)+1);\n",
        "        strcpy(v[pos - 1], str);\n",
        "    }\n",
        "\n",
        "    // free allocated memory\n",
        "    for(i = 0; i < NSTRINGS; i++)\n",
        "    {\n",
        "        free(v[i]);\n",
        "        v[i] = NULL;\n",
        "    }\n",
        "    free(v);\n",
        "    v = NULL;\n",
        "\n",
        "    return 0;\n",
        "}\n"
      ],
      "metadata": {
        "colab": {
          "base_uri": "https://localhost:8080/"
        },
        "id": "hTCnnn3m_wSy",
        "outputId": "bbcf935e-85fd-40d5-d9ae-7c5ca426791a"
      },
      "execution_count": 304,
      "outputs": [
        {
          "output_type": "stream",
          "name": "stdout",
          "text": [
            "Overwriting apontadores10.c\n"
          ]
        }
      ]
    },
    {
      "cell_type": "code",
      "source": [
        "! gcc apontadores10.c -o apontadores10"
      ],
      "metadata": {
        "id": "l7ASnvFF__4J"
      },
      "execution_count": 305,
      "outputs": []
    },
    {
      "cell_type": "code",
      "source": [
        "%%shell \n",
        "\n",
        "./apontadores10"
      ],
      "metadata": {
        "colab": {
          "base_uri": "https://localhost:8080/"
        },
        "id": "jUjEZARMAMKS",
        "outputId": "2603b67e-ae49-4e07-d016-689ab6326cab"
      },
      "execution_count": 292,
      "outputs": [
        {
          "output_type": "stream",
          "name": "stdout",
          "text": [
            "[1] \n",
            "[2] (vazio)\n",
            "[3] (vazio)\n",
            "Posicao para nova string (1 a 3): 2\n",
            "Nova String: teste\n",
            "[1] \n",
            "[2] teste\n",
            "[3] (vazio)\n",
            "Posicao para nova string (1 a 3): 1\n",
            "Nova String: dr\n",
            "[1] dr\n",
            "[2] teste\n",
            "[3] (vazio)\n",
            "Posicao para nova string (1 a 3): 8\n",
            "Posicao para nova string (1 a 3): 3\n",
            "Nova String: frd\n",
            "[1] dr\n",
            "[2] teste\n",
            "[3] frd\n",
            "Posicao para nova string (1 a 3): -1\n",
            "Posicao para nova string (1 a 3): 0\n"
          ]
        },
        {
          "output_type": "execute_result",
          "data": {
            "text/plain": [
              ""
            ]
          },
          "metadata": {},
          "execution_count": 292
        }
      ]
    },
    {
      "cell_type": "code",
      "source": [
        "! valgrind --tool=memcheck --leak-check=yes ./apontadores10"
      ],
      "metadata": {
        "colab": {
          "base_uri": "https://localhost:8080/"
        },
        "id": "7KzlVkfpACyp",
        "outputId": "33748b39-de4d-4127-fd9a-642517e03146"
      },
      "execution_count": 306,
      "outputs": [
        {
          "output_type": "stream",
          "name": "stdout",
          "text": [
            "==3242== Memcheck, a memory error detector\n",
            "==3242== Copyright (C) 2002-2017, and GNU GPL'd, by Julian Seward et al.\n",
            "==3242== Using Valgrind-3.13.0 and LibVEX; rerun with -h for copyright info\n",
            "==3242== Command: ./apontadores10\n",
            "==3242== \n",
            "==3242== Mismatched free() / delete / delete []\n",
            "==3242==    at 0x4C32D3B: free (in /usr/lib/valgrind/vgpreload_memcheck-amd64-linux.so)\n",
            "==3242==    by 0x4E50E04: ??? (in /usr/lib/x86_64-linux-gnu/libtcmalloc.so.4.3.0)\n",
            "==3242==    by 0x40108D2: call_init (dl-init.c:72)\n",
            "==3242==    by 0x40108D2: _dl_init (dl-init.c:119)\n",
            "==3242==    by 0x40010C9: ??? (in /lib/x86_64-linux-gnu/ld-2.27.so)\n",
            "==3242==  Address 0x6653d20 is 0 bytes inside a block of size 4 alloc'd\n",
            "==3242==    at 0x4C3289F: operator new[](unsigned long) (in /usr/lib/valgrind/vgpreload_memcheck-amd64-linux.so)\n",
            "==3242==    by 0x4E50DF7: ??? (in /usr/lib/x86_64-linux-gnu/libtcmalloc.so.4.3.0)\n",
            "==3242==    by 0x40108D2: call_init (dl-init.c:72)\n",
            "==3242==    by 0x40108D2: _dl_init (dl-init.c:119)\n",
            "==3242==    by 0x40010C9: ??? (in /lib/x86_64-linux-gnu/ld-2.27.so)\n",
            "==3242== \n",
            "==3242== Mismatched free() / delete / delete []\n",
            "==3242==    at 0x4C32D3B: free (in /usr/lib/valgrind/vgpreload_memcheck-amd64-linux.so)\n",
            "==3242==    by 0x59FDC0B: std::__cxx11::basic_string<char, std::char_traits<char>, std::allocator<char> >::_M_mutate(unsigned long, unsigned long, char const*, unsigned long) (in /usr/lib/x86_64-linux-gnu/libstdc++.so.6.0.25)\n",
            "==3242==    by 0x59FF132: std::__cxx11::basic_string<char, std::char_traits<char>, std::allocator<char> >::_M_append(char const*, unsigned long) (in /usr/lib/x86_64-linux-gnu/libstdc++.so.6.0.25)\n",
            "==3242==    by 0x4E66708: MallocExtension::Initialize() (in /usr/lib/x86_64-linux-gnu/libtcmalloc.so.4.3.0)\n",
            "==3242==    by 0x4E50E09: ??? (in /usr/lib/x86_64-linux-gnu/libtcmalloc.so.4.3.0)\n",
            "==3242==    by 0x40108D2: call_init (dl-init.c:72)\n",
            "==3242==    by 0x40108D2: _dl_init (dl-init.c:119)\n",
            "==3242==    by 0x40010C9: ??? (in /lib/x86_64-linux-gnu/ld-2.27.so)\n",
            "==3242==  Address 0x6653d70 is 0 bytes inside a block of size 23 alloc'd\n",
            "==3242==    at 0x4C3289F: operator new[](unsigned long) (in /usr/lib/valgrind/vgpreload_memcheck-amd64-linux.so)\n",
            "==3242==    by 0x4E666A6: MallocExtension::Initialize() (in /usr/lib/x86_64-linux-gnu/libtcmalloc.so.4.3.0)\n",
            "==3242==    by 0x4E50E09: ??? (in /usr/lib/x86_64-linux-gnu/libtcmalloc.so.4.3.0)\n",
            "==3242==    by 0x40108D2: call_init (dl-init.c:72)\n",
            "==3242==    by 0x40108D2: _dl_init (dl-init.c:119)\n",
            "==3242==    by 0x40010C9: ??? (in /lib/x86_64-linux-gnu/ld-2.27.so)\n",
            "==3242== \n",
            "==3242== Mismatched free() / delete / delete []\n",
            "==3242==    at 0x4C32D3B: free (in /usr/lib/valgrind/vgpreload_memcheck-amd64-linux.so)\n",
            "==3242==    by 0x4E6671F: MallocExtension::Initialize() (in /usr/lib/x86_64-linux-gnu/libtcmalloc.so.4.3.0)\n",
            "==3242==    by 0x4E50E09: ??? (in /usr/lib/x86_64-linux-gnu/libtcmalloc.so.4.3.0)\n",
            "==3242==    by 0x40108D2: call_init (dl-init.c:72)\n",
            "==3242==    by 0x40108D2: _dl_init (dl-init.c:119)\n",
            "==3242==    by 0x40010C9: ??? (in /lib/x86_64-linux-gnu/ld-2.27.so)\n",
            "==3242==  Address 0x6653dd0 is 0 bytes inside a block of size 45 alloc'd\n",
            "==3242==    at 0x4C3289F: operator new[](unsigned long) (in /usr/lib/valgrind/vgpreload_memcheck-amd64-linux.so)\n",
            "==3242==    by 0x59FDB8A: std::__cxx11::basic_string<char, std::char_traits<char>, std::allocator<char> >::_M_mutate(unsigned long, unsigned long, char const*, unsigned long) (in /usr/lib/x86_64-linux-gnu/libstdc++.so.6.0.25)\n",
            "==3242==    by 0x59FF132: std::__cxx11::basic_string<char, std::char_traits<char>, std::allocator<char> >::_M_append(char const*, unsigned long) (in /usr/lib/x86_64-linux-gnu/libstdc++.so.6.0.25)\n",
            "==3242==    by 0x4E66708: MallocExtension::Initialize() (in /usr/lib/x86_64-linux-gnu/libtcmalloc.so.4.3.0)\n",
            "==3242==    by 0x4E50E09: ??? (in /usr/lib/x86_64-linux-gnu/libtcmalloc.so.4.3.0)\n",
            "==3242==    by 0x40108D2: call_init (dl-init.c:72)\n",
            "==3242==    by 0x40108D2: _dl_init (dl-init.c:119)\n",
            "==3242==    by 0x40010C9: ??? (in /lib/x86_64-linux-gnu/ld-2.27.so)\n",
            "==3242== \n",
            "[1] (vazio)\n",
            "[2] (vazio)\n",
            "Posicao para nova string (1 a 2): 0\n",
            "==3242== \n",
            "==3242== HEAP SUMMARY:\n",
            "==3242==     in use at exit: 40 bytes in 2 blocks\n",
            "==3242==   total heap usage: 11 allocs, 9 frees, 74,882 bytes allocated\n",
            "==3242== \n",
            "==3242== LEAK SUMMARY:\n",
            "==3242==    definitely lost: 0 bytes in 0 blocks\n",
            "==3242==    indirectly lost: 0 bytes in 0 blocks\n",
            "==3242==      possibly lost: 0 bytes in 0 blocks\n",
            "==3242==    still reachable: 40 bytes in 2 blocks\n",
            "==3242==         suppressed: 0 bytes in 0 blocks\n",
            "==3242== Reachable blocks (those to which a pointer was found) are not shown.\n",
            "==3242== To see them, rerun with: --leak-check=full --show-leak-kinds=all\n",
            "==3242== \n",
            "==3242== For counts of detected and suppressed errors, rerun with: -v\n",
            "==3242== ERROR SUMMARY: 3 errors from 3 contexts (suppressed: 0 from 0)\n"
          ]
        }
      ]
    }
  ]
}