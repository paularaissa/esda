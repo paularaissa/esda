{
  "nbformat": 4,
  "nbformat_minor": 0,
  "metadata": {
    "colab": {
      "name": "revisao_listas_ligadas.ipynb",
      "provenance": [],
      "mount_file_id": "13MyshvTTKIgtHt2MPfgqoz8Doq1zNQZz",
      "authorship_tag": "ABX9TyNL1qIl9YkOYm+ZKiYvHXp1",
      "include_colab_link": true
    },
    "kernelspec": {
      "name": "python3",
      "display_name": "Python 3"
    },
    "language_info": {
      "name": "python"
    }
  },
  "cells": [
    {
      "cell_type": "markdown",
      "metadata": {
        "id": "view-in-github",
        "colab_type": "text"
      },
      "source": [
        "<a href=\"https://colab.research.google.com/github/paularaissa/esda/blob/main/revisao_listas_ligadas.ipynb\" target=\"_parent\"><img src=\"https://colab.research.google.com/assets/colab-badge.svg\" alt=\"Open In Colab\"/></a>"
      ]
    },
    {
      "cell_type": "markdown",
      "source": [
        "# **Listas Ligadas**\n",
        "\n",
        "Uma lista ligada é uma sequência de *structs*, que são os nós da lista, ligados entre si através de apontadores. \n",
        "Esta sequência pode ser acessada através de um apontador para o primeiro nó, que é a cabeça da lista. \n",
        "Cada nó contém um apontador que aponta para a struct que é a sua sucessora na lista. \n",
        "O apontador da última struct da lista aponta para NULL, indicando que se chegou ao final da lista. \n",
        "Esta estrutura de dados é criada dinamicamente na memória (utiliza-se `malloc()` e `free()`), de modo que se torna simples introduzir nós, retirar nós, ordenar os nós, etc."
      ],
      "metadata": {
        "id": "T7J6aMJkc_yh"
      }
    },
    {
      "cell_type": "markdown",
      "source": [
        "## Criar uma lista"
      ],
      "metadata": {
        "id": "CFHt6LQkeWWG"
      }
    },
    {
      "cell_type": "code",
      "source": [
        "%%file listas_ligadas1.c\n",
        "\n",
        "#include <stdio.h>\n",
        "#include <string.h>\n",
        "#include <stdlib.h>\n",
        "\n",
        "#define NCAR 100\n",
        "\n",
        "typedef struct _aluno {\n",
        "    int code;\n",
        "    char nome[NCAR];\n",
        "    int nota;\n",
        "    struct _aluno *proximo;\n",
        "} aluno;\n",
        "\n",
        "aluno *primeiro = NULL; /* = 0 */\n",
        "\n",
        "/* ler um string */\n",
        "void ler_str(char *s, int n) {\n",
        "    scanf(\"%s\", s);\n",
        "    s[NCAR] = '\\0';\n",
        "  //fgets(s, n, stdin); \n",
        "}\n",
        "\n",
        "/* ler um registo de aluno */\n",
        "void ler_aluno(aluno *a) {\n",
        "    printf(\"\\nNumero: \"); \n",
        "    scanf(\"%d\", &a->code);\n",
        "    printf(\"\\nNome: \"); \n",
        "    ler_str(a->nome, NCAR);\n",
        "    printf(\"\\nNota: \"); \n",
        "    scanf(\"%d\", &a->nota);\n",
        "}\n",
        "\n",
        "/* escrever um registo de aluno */\n",
        "void escrever_aluno(aluno *a) {\n",
        "    printf(\"Numero: %d\\n\", a->code);\n",
        "    printf(\"Nome: %s\\n\", a->nome);\n",
        "    printf(\"Nota: %2d\\n\", a->nota);\n",
        "}\n",
        "\n",
        "aluno* novo_aluno(void) {\n",
        "  aluno *p;\n",
        "  p = (aluno*)malloc(sizeof(aluno));\n",
        "  p->proximo = NULL;\n",
        "  return p;\n",
        "}\n",
        "\n",
        "void insere() { /* insere um novo registo no inicio da lista */\n",
        "  aluno *p;\n",
        "  p = novo_aluno();\n",
        "  ler_aluno(p);\n",
        "  if(primeiro == NULL)\n",
        "    primeiro = p;\n",
        "  else\n",
        "  {\n",
        "    p->proximo = primeiro;\n",
        "    primeiro = p;\n",
        "  }\n",
        "}\n",
        "\n",
        "void lista() {\n",
        "  aluno *p;\n",
        "  p = primeiro;\n",
        "  while(p != NULL) {\n",
        "    escrever_aluno(p);\n",
        "    p=p->proximo;\n",
        "  }\n",
        "}\n",
        "\n",
        "aluno* busca() { /* efectua a busca de um nome na lista */\n",
        "  aluno *p;\n",
        "  int n_busca;\n",
        "  printf(\"Numero a procurar? \");\n",
        "  scanf(\"%d\", &n_busca);\n",
        "  p = primeiro;\n",
        "  while(p != NULL && p->code != n_busca)\n",
        "    p = p->proximo;\n",
        "  if(p == NULL) printf(\"Nao foi encontrado\\n\");\n",
        "  else escrever_aluno(p);\n",
        "  return p;\n",
        "}\n",
        "\n",
        "/* elimina um registo da lista ligada */\n",
        "void elimina() {\n",
        "  aluno *p, *pa; char resp;\n",
        "  p = busca();\n",
        "  if(p == NULL) return;\n",
        "  printf(\"Deseja remover (s,n)? \");\n",
        "  scanf(\" %c\", &resp);\n",
        "  if(resp =='s') {\n",
        "    if(p == primeiro) {\n",
        "      primeiro = p->proximo;\n",
        "      free(p);\n",
        "    } else {\n",
        "      pa = primeiro;\n",
        "      while(pa->proximo != p) \n",
        "        pa=pa->proximo;\n",
        "      pa->proximo = p->proximo;\n",
        "      free(p);\n",
        "    }\n",
        "  }\n",
        "}\n",
        "\n",
        "/**\n",
        "* ordena uma lista por ordem alfabetica\n",
        "* parametro: lst apontador para a lista\n",
        "* retorno: -1 se ocorrer um erro ou 0 se for bem sucedido \n",
        "int lista_ordena(){\n",
        "  aluno *lst; \n",
        "  lst = primeiro; \n",
        "  aluno *next, *curr, *min;\n",
        "  char *aux;\n",
        "  if(lst == NULL) return -1;\n",
        "  if(sizeof(lst) == 0) return 0;\n",
        "  for(curr = lst->primeiro; curr->proximo != NULL; curr=curr->proximo) {\n",
        "    min = curr;\n",
        "    next = curr->proximo;\n",
        "    while(next != NULL) {\n",
        "      if(strcmp(next->nome, min->nome) < 0) min = next;\n",
        "      next = next->proximo;\n",
        "    }\n",
        "    if (min != curr){\n",
        "      aux = curr->nome;\n",
        "      curr->nome = min->nome;\n",
        "      min->nome = aux;\n",
        "    }\n",
        "  }\n",
        "  return 0;\n",
        "}\n",
        "*/\n",
        "\n",
        "void menu() {\n",
        "  char op;\n",
        "  printf(\"\\n\\nOperacoes:\\n i(nserir)\\n e(liminar)\\n b(uscar)\\n l(istar)\\n s(air)\\n\");\n",
        "  printf(\">> Operacao desejada? \");\n",
        "  scanf(\" %c\", &op);\n",
        "  switch(op) {\n",
        "    case 'i': insere(); break;\n",
        "    case 'e': elimina(); break;\n",
        "    case 'b': busca(); break;\n",
        "    case 'l': lista(); break;\n",
        "    case 's': exit(0);\n",
        "    default: printf(\"Operacao nao definida\\n\");\n",
        "  }\n",
        "}\n",
        "\n",
        "int main() {\n",
        "  while(1) menu();\n",
        "}"
      ],
      "metadata": {
        "colab": {
          "base_uri": "https://localhost:8080/"
        },
        "id": "usFOIdwceg4f",
        "outputId": "d19006ff-155c-4d18-a1fa-fe167d641344"
      },
      "execution_count": 133,
      "outputs": [
        {
          "output_type": "stream",
          "name": "stdout",
          "text": [
            "Overwriting listas_ligadas1.c\n"
          ]
        }
      ]
    },
    {
      "cell_type": "code",
      "source": [
        "! gcc listas_ligadas1.c -o listas_ligadas1"
      ],
      "metadata": {
        "id": "GhTJ_Gx3jzhh"
      },
      "execution_count": 134,
      "outputs": []
    },
    {
      "cell_type": "code",
      "source": [
        "%%shell \n",
        "\n",
        "./listas_ligadas1"
      ],
      "metadata": {
        "id": "o8rH0Hxyj8UB"
      },
      "execution_count": null,
      "outputs": []
    },
    {
      "cell_type": "markdown",
      "source": [
        "## PESQUISA BINÁRIA"
      ],
      "metadata": {
        "id": "LosOWW7_K2hA"
      }
    },
    {
      "cell_type": "code",
      "source": [
        "%%file pesquisa_binaria.c\n",
        "\n",
        "/* Procura um valor inteiro (x) num vetor (v) previamente ordenado.\n",
        "Retorna o índice de uma ocorrência, se encontrar; senão, retorna -1. */\n",
        "\n",
        "#include <stdio.h>\n",
        "#include <string.h>\n",
        "#include <stdlib.h>\n",
        "\n",
        "int pesquisaBinaria(int v[], int tamanho, int x){\n",
        "  int left = 0, right = tamanho - 1;\n",
        "  while (left <= right){\n",
        "    int middle = (left + right) / 2;\n",
        "    if (x == v[middle])\n",
        "    return middle; // encontrou\n",
        "    else if (x < v[middle])\n",
        "    right = middle - 1;\n",
        "    else left = middle + 1;\n",
        "  }\n",
        "  return -1; // não encontrou\n",
        "}\n",
        "\n",
        "int main() {\n",
        "    int *p;\n",
        "    int n = 15;\n",
        "\t  int i;\n",
        "    int res;\n",
        "\n",
        "    p = (int *)malloc(n * sizeof(int));\n",
        "    \n",
        "\t  for (i=0; i<n ; i++) {\n",
        "      p[i] = i;\n",
        "      printf(\"%d \", p[i]);\n",
        "    }\n",
        "    res = pesquisaBinaria(p, n, 20);\n",
        "    printf(\"\\n%d\", res);\n",
        "    return 0;\n",
        "}"
      ],
      "metadata": {
        "colab": {
          "base_uri": "https://localhost:8080/"
        },
        "id": "n90FM4xiLPXZ",
        "outputId": "ed302fbd-869d-4ca6-ae96-ee7b27dea9c3"
      },
      "execution_count": 170,
      "outputs": [
        {
          "output_type": "stream",
          "name": "stdout",
          "text": [
            "Overwriting pesquisa_binaria.c\n"
          ]
        }
      ]
    },
    {
      "cell_type": "code",
      "source": [
        "! gcc pesquisa_binaria.c -o pesquisa_binaria"
      ],
      "metadata": {
        "id": "zUei1famMeck"
      },
      "execution_count": 171,
      "outputs": []
    },
    {
      "cell_type": "code",
      "source": [
        "%%shell \n",
        "\n",
        "./pesquisa_binaria"
      ],
      "metadata": {
        "colab": {
          "base_uri": "https://localhost:8080/"
        },
        "id": "I0GF9PzAMfFi",
        "outputId": "993acf3f-1c3f-4d36-8ebd-9d506b680cbb"
      },
      "execution_count": 172,
      "outputs": [
        {
          "output_type": "stream",
          "name": "stdout",
          "text": [
            "0 1 2 3 4 5 6 7 8 9 10 11 12 13 14 \n",
            "-1"
          ]
        },
        {
          "output_type": "execute_result",
          "data": {
            "text/plain": [
              ""
            ]
          },
          "metadata": {},
          "execution_count": 172
        }
      ]
    },
    {
      "cell_type": "markdown",
      "source": [
        "## ORDENAÇÃO\n",
        "\n",
        "Esta secção trata do seguinte problema fundamental:  Permutar (ou seja, rearranjar) os elementos de um vetor  v[0..n-1]  de tal modo que eles fiquem em ordem crescente, isto é, de tal forma que tenhamos  v[0] ≤ v[1] ≤ . . . ≤ v[n-1] .\n",
        "\n",
        "Embora o problema tenha sido apresentado em termos da ordenação de um vetor, ele faz sentido para qualquer estrutura linear, como uma lista ligada, por exemplo."
      ],
      "metadata": {
        "id": "YtvwaoxJOm1x"
      }
    },
    {
      "cell_type": "markdown",
      "source": [
        "### **Ordenação por inserção**\n",
        "\n",
        "Para entender o funcionamento do algoritmo, basta observar que no início de cada repetição do for externo, imediatamente antes da comparação \"`j < n`\",\n",
        "\n",
        "1. o vetor  `v[0..n-1]`  é uma permutação do vetor original  e\n",
        "2. o vetor  `v[0..j-1]`  está em ordem crescente. \n",
        "\n",
        "Essas condições invariantes são trivialmente verdadeiras no início da primeira iteração, quando `i` vale `1`.  No início da última iteração, `i`\n",
        " vale `n` e portanto o vetor `v[0..n-1]` está em ordem, como desejado. (Note que a última iteração é abortada logo no início, pois a condição \"`i < n`\" é falsa.)\n",
        "\n",
        "Agora considere o tempo que a função `ordenacaoInsercao` consome para fazer o serviço.  Esse tempo é proporcional ao número de execuções da comparação \"`tmp<v[j-1]`\".\n",
        "Logo, o consumo de tempo da função cresce, no pior caso, como o quadrado do tamanho do vetor.\n",
        "Se um vetor de tamanho N consome T segundos então um vetor de tamanho 2N consumirá  4T  segundos e um vetor de tamamanho 10N consumirá  100T  segundos!\n",
        "\n",
        "Essa análise mostra que o algoritmo de inserção é lento demais para ordenar vetores grandes.\n",
        "Graças à sua simplicidade, entretanto, o algoritmo é muito útil no caso de vetores pequenos.\n",
        "Além disso, no melhor caso (por exemlo, se o vetor já está \"quase ordenados\"), o desempenho do algoritmo é muito bom:  o número de comparações não passa de  n  e portanto o consumo de tempo é proporcional a  n. \n",
        "\n",
        "\n"
      ],
      "metadata": {
        "id": "wKy-upTylbP6"
      }
    },
    {
      "cell_type": "code",
      "source": [
        "%%file ordenacao1.c\n",
        "\n",
        "#include <stdio.h>\n",
        "#include <string.h>\n",
        "#include <stdlib.h>\n",
        "\n",
        "void ordenacaoInsercao(int v[], int n)\n",
        "{\n",
        "  int i, j, tmp;\n",
        "  for (i = 1; i < n; i++)\n",
        "  {\n",
        "    tmp = v[i];\n",
        "    for (j = i; j>0 && tmp<v[j-1]; j--)\n",
        "      v[j] = v[j-1];\n",
        "    v[j] = tmp;\n",
        "  }\n",
        "}\n",
        "\n",
        "int main() {\n",
        "    int n = 10;\n",
        "    int i = 0;\n",
        "    int v[10] = {13, 81, 92, 65, 43, 31, 57, 26, 75, 0};\n",
        "\n",
        "    ordenacaoInsercao(v, n);\n",
        "    while (i < n) \n",
        "      printf(\"%d \", v[i++]);\n",
        "  \n",
        "    return 0;\n",
        "}"
      ],
      "metadata": {
        "colab": {
          "base_uri": "https://localhost:8080/"
        },
        "id": "KSUPUuXSkQ3A",
        "outputId": "34466a96-07d1-4227-a4e8-e3c24f277e30"
      },
      "execution_count": 55,
      "outputs": [
        {
          "output_type": "stream",
          "name": "stdout",
          "text": [
            "Overwriting ordenacao1.c\n"
          ]
        }
      ]
    },
    {
      "cell_type": "code",
      "source": [
        "! gcc ordenacao1.c -o ordenacao1"
      ],
      "metadata": {
        "id": "SEYp9hrMmjsH"
      },
      "execution_count": 56,
      "outputs": []
    },
    {
      "cell_type": "code",
      "source": [
        "%%shell \n",
        "\n",
        "./ordenacao1"
      ],
      "metadata": {
        "colab": {
          "base_uri": "https://localhost:8080/"
        },
        "id": "RMqDhALYmjd6",
        "outputId": "16470914-4235-4ad5-94db-62e7520ef8be"
      },
      "execution_count": 57,
      "outputs": [
        {
          "output_type": "stream",
          "name": "stdout",
          "text": [
            "0 13 26 31 43 57 65 75 81 92 "
          ]
        },
        {
          "output_type": "execute_result",
          "data": {
            "text/plain": [
              ""
            ]
          },
          "metadata": {},
          "execution_count": 57
        }
      ]
    },
    {
      "cell_type": "markdown",
      "source": [
        "### **Quicksort**\n",
        "\n",
        "Quicksort é um algoritmo de divisão-e-conquista recursivo. \n",
        "O processo básico de divisão-e-conquista para ordenar um subarray `S[p..r]` pode ser sumarizado em três etapas: \n",
        "\n",
        "* Dividir: Particionar `S[p..r]` em dois subarranjos `S[p..q-1]` e `S[q+1..r]` de modo que cada elemento de `S[p..q-1]` seja menor ou igual a `S[q]`, que é, por sua vez, menor ou igual a cada elemento de `S[q+1..r]`. Calcule o índice q como parte deste procedimento de particionamento\n",
        "\n",
        "* Conquistar: Sort the two subarrays `S[p...q-1]` and `S[q+1..r]` by recursive calls to quicksort.\n",
        "\n",
        "* Combinar: Como os subarrays estão ordenados no local, não é necessário nenhum trabalho para combina-los: todo o array S está agora ordenado.\n",
        "\n",
        "O ponto de partida para a solução desse problema é a escolha de um pivô, digamos  `j`.  \n",
        "Os elementos do vetor que forem maiores que `j` serão considerados grandes e os demais serão considerados pequenos.\n",
        "É importante escolher `j` de tal modo que as duas partes do vetor rearranjado sejam estritamente menores que o vetor todo. \n",
        "A dificuldade está em resolver o problema da separação rápidamente sem usar um vetor auxiliar.\n",
        "\n",
        "Em alguns casos, o Quicksort pode ser tão lento quanto os algoritmos elementares; mas em geral é muito mais rápido.  \n",
        "Mais precisamente, o algoritmo é linear em média e quadrático no pior caso.\n",
        "\n",
        "[Comparação de algoritmos de ordenação](https://www.cs.usfca.edu/~galles/visualization/ComparisonSort.html)"
      ],
      "metadata": {
        "id": "wvG12XHalqWw"
      }
    },
    {
      "cell_type": "code",
      "source": [
        "%%file ordenacao3.c\n",
        "\n",
        "#include <stdio.h>\n",
        "#include <string.h>\n",
        "#include <stdlib.h>\n",
        "\n",
        "/* Ordena elementos do vetor v de inteiros,\n",
        "invocando a função recursiva com o protótipo\n",
        "void quickSortIter(int v[], int left, int right)\n",
        "mostrada no slide seguinte. */\n",
        "\n",
        "void swap(int *xp, int *yp)\n",
        "{\n",
        "    int temp = *xp;\n",
        "    *xp = *yp;\n",
        "    *yp = temp;\n",
        "}\n",
        " \n",
        "\n",
        "void quickSortIter(int v[], int left, int right) {\n",
        "  int i, j, tamanho = right-left+1;\n",
        "  if(tamanho<2) /* com tamanho 0 ou 1 esta ordenado */\n",
        "    return;\n",
        "  else {\n",
        "    int pos = rand()%tamanho + left; /* determina pivot */\n",
        "    swap(&v[pos], &v[right]); /* coloca pivot no fim */\n",
        "    i = left; j = right-1; /* passo de partição */\n",
        "    while(1) {\n",
        "      while (i < right && v[i] <= v[right])\n",
        "        i++;\n",
        "      while (j >= 0 && v[right] <= v[j])\n",
        "        j--;\n",
        "      if (i < j)\n",
        "        swap(&v[i], &v[j]);\n",
        "      else\n",
        "        break;\n",
        "    }\n",
        "    swap(&v[i], &v[right]); /* repoe pivot */\n",
        "    quickSortIter(v, left, i-1);\n",
        "    quickSortIter(v, i+1, right);\n",
        "  }\n",
        "}\n",
        "\n",
        "void quickSort(int v[], int tamanho)\n",
        "{\n",
        "  quickSortIter(v, 0, tamanho-1);\n",
        "}\n",
        "\n",
        "int main() {\n",
        "    int n = 10;\n",
        "    int i = 0;\n",
        "    int v[10] = {13, 81, 92, 65, 43, 31, 57, 26, 75, 0};\n",
        "\n",
        "    quickSort(v, n);\n",
        "    while (i < n) \n",
        "      printf(\"%d \", v[i++]);\n",
        "  \n",
        "    return 0;\n",
        "}"
      ],
      "metadata": {
        "colab": {
          "base_uri": "https://localhost:8080/"
        },
        "id": "rCfE0BS8l4TP",
        "outputId": "07eaf452-dcb1-4062-d8c0-f31a58163460"
      },
      "execution_count": 47,
      "outputs": [
        {
          "output_type": "stream",
          "name": "stdout",
          "text": [
            "Overwriting ordenacao3.c\n"
          ]
        }
      ]
    },
    {
      "cell_type": "code",
      "source": [
        "! gcc ordenacao3.c -o ordenacao3"
      ],
      "metadata": {
        "id": "cmSUs8TUfrXz"
      },
      "execution_count": 48,
      "outputs": []
    },
    {
      "cell_type": "code",
      "source": [
        "%%shell \n",
        "\n",
        "./ordenacao3"
      ],
      "metadata": {
        "colab": {
          "base_uri": "https://localhost:8080/"
        },
        "id": "1HXXfi4ifsFE",
        "outputId": "05090c8b-f5bf-4545-a19f-0550df6da43a"
      },
      "execution_count": 49,
      "outputs": [
        {
          "output_type": "stream",
          "name": "stdout",
          "text": [
            "0 13 26 31 43 57 65 75 81 92 "
          ]
        },
        {
          "output_type": "execute_result",
          "data": {
            "text/plain": [
              ""
            ]
          },
          "metadata": {},
          "execution_count": 49
        }
      ]
    }
  ]
}