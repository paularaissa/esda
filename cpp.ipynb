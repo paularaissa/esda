{
  "nbformat": 4,
  "nbformat_minor": 0,
  "metadata": {
    "colab": {
      "name": "cpp.ipynb",
      "provenance": [],
      "collapsed_sections": []
    },
    "kernelspec": {
      "name": "python3",
      "display_name": "Python 3"
    },
    "language_info": {
      "name": "python"
    }
  },
  "cells": [
    {
      "cell_type": "markdown",
      "source": [
        "# C++\n",
        "\n",
        "\n",
        "\n",
        "* Desenvolvido para ser uma linguagem tipada estaticamente e de proposta geral, tão eficiente e portável como o C\n",
        "*   Suporte para múltiplos paradigmas\n",
        "* O mais compatível com C possível, fornecendo transições\n",
        "simples para código C\n",
        "\n"
      ],
      "metadata": {
        "id": "t3THwwJobJ6I"
      }
    },
    {
      "cell_type": "code",
      "source": [
        "%%file hello.cpp\n",
        "\n",
        "// o meu primeiro programa em C++\n",
        "\n",
        "#include <iostream>\n",
        "\n",
        "int main() {\n",
        "    std::cout << \"Bom dia\" << std::endl;\n",
        "} "
      ],
      "metadata": {
        "colab": {
          "base_uri": "https://localhost:8080/"
        },
        "id": "V2AMVfUynTIn",
        "outputId": "6dbc82ac-35ec-4979-dad2-eee5af3d340a"
      },
      "execution_count": null,
      "outputs": [
        {
          "output_type": "stream",
          "name": "stdout",
          "text": [
            "Writing hello.cpp\n"
          ]
        }
      ]
    },
    {
      "cell_type": "code",
      "execution_count": null,
      "metadata": {
        "id": "g-w4DaTybFk1"
      },
      "outputs": [],
      "source": [
        "! g++ hello.cpp -o hello"
      ]
    },
    {
      "cell_type": "code",
      "source": [
        "%%shell\n",
        "\n",
        "./hello\n"
      ],
      "metadata": {
        "colab": {
          "base_uri": "https://localhost:8080/"
        },
        "id": "GpvbLVy48gPM",
        "outputId": "8504b7cd-6ff9-4457-9b25-c320239f8d5d"
      },
      "execution_count": null,
      "outputs": [
        {
          "output_type": "stream",
          "name": "stdout",
          "text": [
            "Bom dia\n"
          ]
        },
        {
          "output_type": "execute_result",
          "data": {
            "text/plain": [
              ""
            ]
          },
          "metadata": {},
          "execution_count": 3
        }
      ]
    },
    {
      "cell_type": "markdown",
      "source": [
        "## Novidades no C++\n",
        "\n",
        "* Novos Tipos: bool e string\n",
        "* Namespaces\n",
        "* Classes (herança, classes abstratas, construtores, polimorfismo)\n",
        "* Templates\n",
        "* Operador ::"
      ],
      "metadata": {
        "id": "udTBHU758f3S"
      }
    },
    {
      "cell_type": "markdown",
      "source": [
        "## Input e Output\n",
        "* Utilizar toda a biblioteca iostream\n",
        "```\n",
        "#include <iostream>\n",
        "using namespace std;\n",
        "```\n",
        "\n",
        "* Utilizar apenas cin, cout e endl da biblioteca iostream:\n",
        "```\n",
        "#include <iostream>\n",
        "using std::cin;\n",
        "using std::cout;\n",
        "using std::endl;\n",
        "```\n"
      ],
      "metadata": {
        "id": "s31ccoLR-D4S"
      }
    },
    {
      "cell_type": "markdown",
      "source": [
        "## Um programa em C++\n",
        "\n",
        "* Duas formas de definir um programa em C++\n",
        "\n",
        "\n",
        "```\n",
        "int main() {\n",
        "  ...\n",
        "}\n",
        "```\n",
        "\n",
        "```\n",
        "int main(int argc, char *argv[]) {\n",
        "  ...\n",
        "}\n",
        "```"
      ],
      "metadata": {
        "id": "aQFqYw7_-mQx"
      }
    },
    {
      "cell_type": "markdown",
      "source": [
        "## Entrada e Saída de Dados com streams\n",
        "\n",
        "```\n",
        "cout << exp1 << exp2 << ...\n",
        "```\n",
        "escreve (insere) no stream de saída os valores das expressões indicadas\n",
        "\n",
        "```\n",
        " cout << endl\n",
        "```\n",
        "escreve caracter de mudança de linha e despeja o buffer de\n",
        "saída\n",
        "\n",
        "```\n",
        " cout << endl\n",
        "```\n",
        "escreve um caracter no stream de saída\n",
        "\n",
        "```\n",
        "cin >> var1 >> var2 >> ...\n",
        "```\n",
        "Lê (extrai) do stream de entrada valores para as variáveis; salta caracteres \"brancos\". Operador \">>\" devolve falso se falhar leitura.\n",
        "\n",
        "```\n",
        "cin.eof()\n",
        "```\n",
        "testa se chegou ao fim do stream de entrada\n",
        "\n",
        "```\n",
        "cin.get()\n",
        "```\n",
        "lê um caracter do stream de entrada; não salta caracteres brancos;\n",
        "retorna EOF se encontrar o fim do stream"
      ],
      "metadata": {
        "id": "XGDRNurX_3GG"
      }
    },
    {
      "cell_type": "markdown",
      "source": [
        "## Manipulação de Ficheiros \n",
        " \n",
        " - ver ficheiros.cpp"
      ],
      "metadata": {
        "id": "VxCyBC85CEY6"
      }
    },
    {
      "cell_type": "markdown",
      "source": [
        "## O Tipo String\n",
        "\n",
        "ver string.cpp\n",
        "\n",
        "* Inicialização\n",
        "```\n",
        "string uc = \"ESDA\";\n",
        "string uc(\"ESDA\");\n",
        "```\n",
        "\n",
        "* Tamanho da string\n",
        "```\n",
        "s.length();\n",
        "```\n",
        "* Posição de um caractere\n",
        "```\n",
        "s[i] //caracter que se encontra na posição i da string s\n",
        "```\n",
        "* Comparação de strings faz-se com operadores de comparação habituais (>, >=, <, <=, ==, !=)\n",
        "* Concatenação\n",
        "```\n",
        "s1 += s2;\n",
        "s3 = s1 + s2;\n",
        "s4 = s2 + s1;\n",
        "```\n",
        "* Substring\n",
        "```\n",
        "// devolve substring de tamanho n e início na posição i de s\n",
        "// segundo argumento pode ser omitido (nesse caso é até ao fim da string)\n",
        "s.substr(i,n)\n",
        "```\n",
        "* Busca\n",
        "```\n",
        "// devolve a posição inicial da primeira ocorrência de s2 em s1\n",
        "s1.find(s2)\n",
        "```\n",
        "* Conversão de tipos\n",
        "```\n",
        "// Apenas com a biblioteca <string>\n",
        "int num = stoi(str);\n",
        "// Com as bibliotecas <string> e <sstream>\n",
        "ss >> num;\n",
        "```\n",
        "\n",
        "## O tipo **boll**\n",
        "* Em C++ existe o tipo bool\n",
        "* As constantes deste tipo são true e false\n",
        "```\n",
        "bool isLessString(string &s1, string &s2)\n",
        "{\n",
        "    return s1.size() < s2.size();\n",
        "}\n",
        "```\n",
        "\n",
        "## Passagem de Argumentos\n",
        "\n",
        "* Por referência\n",
        "* Por valor\n",
        "\n",
        "(ver argumentos.cpp)\n",
        "\n",
        "## Vector\n",
        " * Os vetores são arrays dinâmicos com a capacidade de se redimensionar automaticamente quando um elemento é inserido ou excluído\n",
        " * Os elementos podem ser acedidos e percorridos usando iteradores. \n",
        " * Nos vetores, os dados são inseridos no final. \n",
        "\n",
        "* Iterators\n",
        "  * begin() - primeiro elemento do vetor\n",
        "  * end() - último elemento do vetor\n",
        "\n",
        "* Capacidade\n",
        "  * size() - retorna o número de elementos do vetor\n",
        "  * resize(n) - modifica o tamanho do vetor \n",
        "  * empty() - verifica se o vetor é vazio\n",
        "  * shrink_to_fit() - reduz a capacidade do vetor\n",
        "* Ordenação\n",
        "  * sort(inicio, fim) - Ordena os elementos do vetor. Internamente utiliza o IntroSort, que é uma combinação do QuickSort, HeapSort e Inserção (InsertionSort).\n",
        "* Acesso a elementos\n",
        "  * at(i) – Retorna o elemento na posição ‘i’ do vetor\n",
        "  * front() – Retorna o primeiro elemento do vetor\n",
        "  * back() – Retorna o último elemento do vetor\n",
        "* Modificadores\n",
        "  * push_back() – Insere elementos no final do vetor\n",
        "  * pop_back() – Remove elementos a partir do final do vetor\n",
        "  * insert() – Insere elementos a partir de uma posição específica\n",
        "  * erase() – Remove elementos a partir de uma posição específica ou de um conjunto de posições\n",
        "  * swap() – Troca elementos entre dois vetores\n",
        "  * clear() – Remove todo os elementos do vetor\n",
        "\n",
        "## Programação Orientada a Objetos\n",
        "* Classes\n",
        "* Objetos\n",
        "* Atributos\n",
        "* Métodos\n",
        "* Getters e Setters\n",
        "* Polimorfismo\n",
        "* Herança\n",
        " \n",
        "Referência: https://www.cplusplus.com/reference/\n"
      ],
      "metadata": {
        "id": "6DORF8HiIcjh"
      }
    }
  ]
}